{
 "cells": [
  {
   "cell_type": "markdown",
   "metadata": {},
   "source": [
    "# Marvin query Results\n",
    "\n",
    "Now that you have performed your first query, let's take at what Marvin returns as a Marvin Results object."
   ]
  },
  {
   "cell_type": "code",
   "execution_count": 12,
   "metadata": {
    "collapsed": false
   },
   "outputs": [],
   "source": [
    "from marvin import config\n",
    "config.mode='remote'\n",
    "config.switchSasUrl('local')\n",
    "config.setRelease('MPL-4')"
   ]
  },
  {
   "cell_type": "code",
   "execution_count": 13,
   "metadata": {
    "collapsed": false
   },
   "outputs": [
    {
     "name": "stdout",
     "output_type": "stream",
     "text": [
      "Your parsed filter is: \n",
      "and_(nsa.sersic_mass>3e11, nsa.z<0.1)\n",
      "Results contain of a total of 3, only returning the first 3 results\n",
      "[u'mangaid', u'plate', u'plateifu', u'name', u'z', u'sersic_mass']\n"
     ]
    }
   ],
   "source": [
    "from marvin.tools.query import Query, Results, doQuery\n",
    "\n",
    "# make a query\n",
    "myquery = 'nsa.sersic_mass > 3e11 AND nsa.z < 0.1'\n",
    "q = Query(searchfilter=myquery)\n",
    " \n",
    "# run a query\n",
    "r = q.run()"
   ]
  },
  {
   "cell_type": "markdown",
   "metadata": {},
   "source": [
    "Let's look at the Marvin Results object.  We can see how many results were returned with r.count and r.totalcount"
   ]
  },
  {
   "cell_type": "code",
   "execution_count": 17,
   "metadata": {
    "collapsed": false
   },
   "outputs": [
    {
     "name": "stdout",
     "output_type": "stream",
     "text": [
      "Marvin Results(results=NamedTuple(mangaid=u'1-338090', plate=8131, plateifu=u'8131-3701', name=u'3701', z=0.0806723535060883, sersic_mass=1150581604352.0), \n",
      "query=u'SELECT mangadatadb.cube.mangaid AS \"cube.mangaid\", mangadatadb.cube.plate AS \"cube.plate\", concat(mangadatadb.cube.plate, \\'-\\', mangadatadb.ifudesign.name) AS \"cube.plateifu\", mangadatadb.ifudesign.name AS \"ifu.name\", mangasampledb.nsa.z AS \"nsa.z\", mangasampledb.nsa.sersic_mass AS \"nsa.sersic_mass\" \\nFROM mangadatadb.cube JOIN mangadatadb.ifudesign ON mangadatadb.ifudesign.pk = mangadatadb.cube.ifudesign_pk JOIN mangasampledb.manga_target ON mangasampledb.manga_target.pk = mangadatadb.cube.manga_target_pk JOIN mangasampledb.manga_target_to_nsa ON mangasampledb.manga_target.pk = mangasampledb.manga_target_to_nsa.manga_target_pk JOIN mangasampledb.nsa ON mangasampledb.nsa.pk = mangasampledb.manga_target_to_nsa.nsa_pk JOIN mangadatadb.pipeline_info AS drpalias ON drpalias.pk = mangadatadb.cube.pipeline_info_pk \\nWHERE mangasampledb.nsa.sersic_mass > 3e+11 AND mangasampledb.nsa.z < 0.1 AND drpalias.pk = 21', \n",
      "count=3, \n",
      "mode=remote\n",
      "('Total count', 3)\n",
      "('Page count', 3)\n"
     ]
    }
   ],
   "source": [
    "print(r)\n",
    "print('Total count', r.totalcount)\n",
    "print('Page count', r.count)"
   ]
  },
  {
   "cell_type": "markdown",
   "metadata": {},
   "source": [
    "Queries returning more than 1000 results are paginated into chunks of 100.  For anything less than 1000, the query will return everything.  Totalcount shows the total result count, and count shows the returned count in just that page."
   ]
  },
  {
   "cell_type": "markdown",
   "metadata": {},
   "source": [
    "The results from your query are stored in the .results attribute, as a list of NamedTuples.  These are like regular tuples except they have names (like dictionary key names)"
   ]
  },
  {
   "cell_type": "code",
   "execution_count": 19,
   "metadata": {
    "collapsed": false
   },
   "outputs": [
    {
     "data": {
      "text/plain": [
       "[NamedTuple(mangaid=u'1-338090', plate=8131, plateifu=u'8131-3701', name=u'3701', z=0.0806723535060883, sersic_mass=1150581604352.0),\n",
       " NamedTuple(mangaid=u'1-377378', plate=8132, plateifu=u'8132-6102', name=u'6102', z=0.0265520866960287, sersic_mass=513574535168.0),\n",
       " NamedTuple(mangaid=u'1-256301', plate=8258, plateifu=u'8258-9102', name=u'9102', z=0.0961406528949738, sersic_mass=7116798033920.0)]"
      ]
     },
     "execution_count": 19,
     "metadata": {},
     "output_type": "execute_result"
    }
   ],
   "source": [
    "r.results"
   ]
  },
  {
   "cell_type": "markdown",
   "metadata": {},
   "source": [
    "You can access specific values of the results through tuple indexing or via the named attribute, but this is not recommended in general."
   ]
  },
  {
   "cell_type": "code",
   "execution_count": 29,
   "metadata": {
    "collapsed": false
   },
   "outputs": [
    {
     "name": "stdout",
     "output_type": "stream",
     "text": [
      "('single row', NamedTuple(mangaid=u'1-338090', plate=8131, plateifu=u'8131-3701', name=u'3701', z=0.0806723535060883, sersic_mass=1150581604352.0))\n",
      "('mangaid', u'1-338090')\n",
      "('mangaid', u'1-338090')\n",
      "('names', [u'mangaid', u'plate', u'plateifu', u'name', u'z', u'sersic_mass'])\n",
      "1.15058160435e+12\n"
     ]
    }
   ],
   "source": [
    "res = r.results[0]\n",
    "print('single row', res)\n",
    "print('mangaid', res[0])\n",
    "print('mangaid', res.mangaid)\n",
    "\n",
    "# what are the names\n",
    "print('names', res.keys())\n",
    "print(res.sersic_mass)"
   ]
  },
  {
   "cell_type": "markdown",
   "metadata": {},
   "source": [
    "** But be careful ** Names using the full `table.parameter` syntax cannot be accessed via the named attribute.  This syntax is returned when two parameters with non-unique names are returned, like `ifu.name` and `bintype.name`.  Instead we recommend using the Marvin Results **getListOf** and **getDictOf** methods."
   ]
  },
  {
   "cell_type": "code",
   "execution_count": 34,
   "metadata": {
    "collapsed": false
   },
   "outputs": [
    {
     "name": "stdout",
     "output_type": "stream",
     "text": [
      "[u'1-338090', u'1-377378', u'1-256301']\n"
     ]
    }
   ],
   "source": [
    "# if you want a retrieve a list of a single parameter, use getListOf\n",
    "mangaid = r.getListOf('mangaid')\n",
    "print(mangaid)"
   ]
  },
  {
   "cell_type": "markdown",
   "metadata": {},
   "source": [
    "To see what columns are available, use r.columns and r.coltoparam"
   ]
  },
  {
   "cell_type": "code",
   "execution_count": 54,
   "metadata": {
    "collapsed": false
   },
   "outputs": [
    {
     "name": "stdout",
     "output_type": "stream",
     "text": [
      "('columns', [u'mangaid', u'plate', u'plateifu', u'name', u'z', u'sersic_mass'])\n",
      "('full parameter names', OrderedDict([(u'mangaid', u'mangaid'), (u'plate', u'plate'), (u'plateifu', u'plateifu'), (u'name', u'name'), (u'z', u'z'), (u'sersic_mass', u'sersic_mass')]))\n"
     ]
    }
   ],
   "source": [
    "# these are the column names in the results\n",
    "print('columns', r.columns) \n",
    "\n",
    "# this is a mapping between the column and full parameter name, see also r.paramtocol for the inverse\n",
    "print('full parameter names', r.coltoparam) "
   ]
  },
  {
   "cell_type": "markdown",
   "metadata": {},
   "source": [
    "if you want to retrieve the results as a list of dictionaries or dictionary of lists, use getDictOf"
   ]
  },
  {
   "cell_type": "code",
   "execution_count": 49,
   "metadata": {
    "collapsed": false
   },
   "outputs": [
    {
     "name": "stdout",
     "output_type": "stream",
     "text": [
      "[{u'mangaid': u'1-338090', u'plate': 8131, u'sersic_mass': 1150581604352.0, u'name': u'3701', u'plateifu': u'8131-3701', u'z': 0.0806723535060883}, {u'mangaid': u'1-377378', u'plate': 8132, u'sersic_mass': 513574535168.0, u'name': u'6102', u'plateifu': u'8132-6102', u'z': 0.0265520866960287}, {u'mangaid': u'1-256301', u'plate': 8258, u'sersic_mass': 7116798033920.0, u'name': u'9102', u'plateifu': u'8258-9102', u'z': 0.0961406528949738}]\n",
      "('mangaid', u'1-338090', u'1-377378')\n"
     ]
    }
   ],
   "source": [
    "# by default, getDictOf returns a list of dictionaries, that you can iterate over\n",
    "mylist = r.getDictOf()\n",
    "print(mylist)\n",
    "print('mangaid', mylist[0]['mangaid'], mylist[1]['mangaid'])"
   ]
  },
  {
   "cell_type": "markdown",
   "metadata": {},
   "source": [
    "you can change the format returned using the **format_type** keyword.  **format_type='dictlist'** returns a dictionary of lists getDictOf returns a list of dictionaries"
   ]
  },
  {
   "cell_type": "code",
   "execution_count": 48,
   "metadata": {
    "collapsed": false
   },
   "outputs": [
    {
     "name": "stdout",
     "output_type": "stream",
     "text": [
      "{u'mangaid': [u'1-338090', u'1-377378', u'1-256301'], u'plate': [8131, 8132, 8258], u'sersic_mass': [1150581604352.0, 513574535168.0, 7116798033920.0], u'name': [u'3701', u'6102', u'9102'], u'plateifu': [u'8131-3701', u'8132-6102', u'8258-9102'], u'z': [0.0806723535060883, 0.0265520866960287, 0.0961406528949738]}\n",
      "('keys', [u'mangaid', u'plate', u'sersic_mass', u'name', u'plateifu', u'z'])\n",
      "('mangaid', [u'1-338090', u'1-377378', u'1-256301'])\n"
     ]
    }
   ],
   "source": [
    "mydict = r.getDictOf(format_type='dictlist')\n",
    "print(mydict)\n",
    "print('keys', mydict.keys())\n",
    "print('mangaid', mydict['mangaid'])"
   ]
  },
  {
   "cell_type": "markdown",
   "metadata": {},
   "source": [
    "# Retrieving More Results\n",
    "If your returned results have been paginated, you can retrieve more using **r.getNext**, **r.getPrevious**, and  **r.getSubset** "
   ]
  },
  {
   "cell_type": "code",
   "execution_count": 56,
   "metadata": {
    "collapsed": false
   },
   "outputs": [
    {
     "name": "stdout",
     "output_type": "stream",
     "text": [
      "WARNING: You have reached the end.\n",
      "INFO: Retrieving next 100, from -97 to 3\n"
     ]
    },
    {
     "data": {
      "text/plain": [
       "[NamedTuple(mangaid=u'1-338090', plate=8131, plateifu=u'8131-3701', name=u'3701', z=0.0806723535060883, sersic_mass=1150581604352.0),\n",
       " NamedTuple(mangaid=u'1-377378', plate=8132, plateifu=u'8132-6102', name=u'6102', z=0.0265520866960287, sersic_mass=513574535168.0),\n",
       " NamedTuple(mangaid=u'1-256301', plate=8258, plateifu=u'8258-9102', name=u'9102', z=0.0961406528949738, sersic_mass=7116798033920.0)]"
      ]
     },
     "execution_count": 56,
     "metadata": {},
     "output_type": "execute_result"
    }
   ],
   "source": [
    "# get the next set of results\n",
    "r.getNext()"
   ]
  },
  {
   "cell_type": "code",
   "execution_count": null,
   "metadata": {
    "collapsed": true
   },
   "outputs": [],
   "source": []
  }
 ],
 "metadata": {
  "kernelspec": {
   "display_name": "Python [conda root]",
   "language": "python",
   "name": "conda-root-py"
  },
  "language_info": {
   "codemirror_mode": {
    "name": "ipython",
    "version": 2
   },
   "file_extension": ".py",
   "mimetype": "text/x-python",
   "name": "python",
   "nbconvert_exporter": "python",
   "pygments_lexer": "ipython2",
   "version": "2.7.12"
  }
 },
 "nbformat": 4,
 "nbformat_minor": 1
}
