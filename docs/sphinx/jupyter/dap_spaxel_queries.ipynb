{
 "cells": [
  {
   "cell_type": "markdown",
   "metadata": {},
   "source": [
    "# DAP Zonal Queries (or Spaxel Queries)\n",
    "Marvin allows you to perform queries on individual spaxels within and across the MaNGA dataset.   "
   ]
  },
  {
   "cell_type": "code",
   "execution_count": 2,
   "metadata": {
    "collapsed": false
   },
   "outputs": [],
   "source": [
    "from marvin import config\n",
    "from marvin.tools.query import Query\n",
    "config.mode='remote'\n",
    "config.switchSasUrl('local')"
   ]
  },
  {
   "cell_type": "markdown",
   "metadata": {},
   "source": [
    "Let's grab all spaxels with an Ha-flux > 25 from MPL-5.  "
   ]
  },
  {
   "cell_type": "code",
   "execution_count": 7,
   "metadata": {
    "collapsed": false
   },
   "outputs": [
    {
     "name": "stdout",
     "output_type": "stream",
     "text": [
      "Your parsed filter is: \n",
      "emline_gflux_ha_6564>25\n",
      "Marvin Query(mode='remote', limit=100, sort=None, order='asc')\n"
     ]
    }
   ],
   "source": [
    "config.setRelease('MPL-5')\n",
    "f = 'emline_gflux_ha_6564 > 25'\n",
    "q = Query(searchfilter=f)\n",
    "print(q)"
   ]
  },
  {
   "cell_type": "code",
   "execution_count": 8,
   "metadata": {
    "collapsed": false
   },
   "outputs": [
    {
     "name": "stdout",
     "output_type": "stream",
     "text": [
      "Results contain of a total of 18, only returning the first 18 results\n",
      "[u'mangaid', u'plate', u'plateifu', u'name', u'emline_gflux_ha_6564', u'x', u'y']\n"
     ]
    }
   ],
   "source": [
    "# let's run the query\n",
    "r = q.run()"
   ]
  },
  {
   "cell_type": "code",
   "execution_count": 9,
   "metadata": {
    "collapsed": false
   },
   "outputs": [
    {
     "data": {
      "text/plain": [
       "[NamedTuple(mangaid=u'1-209232', plate=8485, plateifu=u'8485-1901', name=u'1901', emline_gflux_ha_6564=26.3961, x=16, y=16),\n",
       " NamedTuple(mangaid=u'1-209232', plate=8485, plateifu=u'8485-1901', name=u'1901', emline_gflux_ha_6564=28.3759, x=16, y=17),\n",
       " NamedTuple(mangaid=u'1-209232', plate=8485, plateifu=u'8485-1901', name=u'1901', emline_gflux_ha_6564=25.651, x=16, y=18),\n",
       " NamedTuple(mangaid=u'1-209232', plate=8485, plateifu=u'8485-1901', name=u'1901', emline_gflux_ha_6564=30.3718, x=17, y=16),\n",
       " NamedTuple(mangaid=u'1-209232', plate=8485, plateifu=u'8485-1901', name=u'1901', emline_gflux_ha_6564=31.4754, x=17, y=17),\n",
       " NamedTuple(mangaid=u'1-209232', plate=8485, plateifu=u'8485-1901', name=u'1901', emline_gflux_ha_6564=28.3923, x=17, y=18),\n",
       " NamedTuple(mangaid=u'1-209232', plate=8485, plateifu=u'8485-1901', name=u'1901', emline_gflux_ha_6564=27.7081, x=18, y=16),\n",
       " NamedTuple(mangaid=u'1-209232', plate=8485, plateifu=u'8485-1901', name=u'1901', emline_gflux_ha_6564=28.2909, x=18, y=17),\n",
       " NamedTuple(mangaid=u'1-209232', plate=8485, plateifu=u'8485-1901', name=u'1901', emline_gflux_ha_6564=25.4768, x=18, y=18),\n",
       " NamedTuple(mangaid=u'1-209232', plate=8485, plateifu=u'8485-1901', name=u'1901', emline_gflux_ha_6564=26.4124, x=16, y=16),\n",
       " NamedTuple(mangaid=u'1-209232', plate=8485, plateifu=u'8485-1901', name=u'1901', emline_gflux_ha_6564=28.3806, x=16, y=17),\n",
       " NamedTuple(mangaid=u'1-209232', plate=8485, plateifu=u'8485-1901', name=u'1901', emline_gflux_ha_6564=25.6566, x=16, y=18),\n",
       " NamedTuple(mangaid=u'1-209232', plate=8485, plateifu=u'8485-1901', name=u'1901', emline_gflux_ha_6564=30.4327, x=17, y=16),\n",
       " NamedTuple(mangaid=u'1-209232', plate=8485, plateifu=u'8485-1901', name=u'1901', emline_gflux_ha_6564=31.4792, x=17, y=17),\n",
       " NamedTuple(mangaid=u'1-209232', plate=8485, plateifu=u'8485-1901', name=u'1901', emline_gflux_ha_6564=28.3875, x=17, y=18),\n",
       " NamedTuple(mangaid=u'1-209232', plate=8485, plateifu=u'8485-1901', name=u'1901', emline_gflux_ha_6564=27.7607, x=18, y=16),\n",
       " NamedTuple(mangaid=u'1-209232', plate=8485, plateifu=u'8485-1901', name=u'1901', emline_gflux_ha_6564=28.3337, x=18, y=17),\n",
       " NamedTuple(mangaid=u'1-209232', plate=8485, plateifu=u'8485-1901', name=u'1901', emline_gflux_ha_6564=25.4602, x=18, y=18)]"
      ]
     },
     "execution_count": 9,
     "metadata": {},
     "output_type": "execute_result"
    }
   ],
   "source": [
    "r.totalcount\n",
    "r.results"
   ]
  },
  {
   "cell_type": "markdown",
   "metadata": {},
   "source": [
    "Spaxel queries are queries on individual spaxels, and thus will always return a spaxel x and y satisfying your input condition.  There is the potential of returning a large number of results that span only a few actual galaxies.  Let's see how many..  "
   ]
  },
  {
   "cell_type": "code",
   "execution_count": 14,
   "metadata": {
    "collapsed": false
   },
   "outputs": [
    {
     "name": "stdout",
     "output_type": "stream",
     "text": [
      "('unique galaxies', set([u'8485-1901']), 1)\n"
     ]
    }
   ],
   "source": [
    "# get a list of the plate-ifus\n",
    "plateifu = r.getListOf('plateifu')\n",
    "# look at the unique values with Python set\n",
    "print('unique galaxies', set(plateifu), len(set(plateifu)))"
   ]
  },
  {
   "cell_type": "markdown",
   "metadata": {},
   "source": [
    "# Optimize your query\n",
    "Unless specified, spaxel queries will query across all bintypes and stellar templates.  If you only want to search over a certain binning mode, this must be specified.  If your query is taking too long, or returning too many results, consider filtering on a specific bintype and template."
   ]
  },
  {
   "cell_type": "code",
   "execution_count": 21,
   "metadata": {
    "collapsed": false
   },
   "outputs": [
    {
     "name": "stdout",
     "output_type": "stream",
     "text": [
      "Your parsed filter is: \n",
      "and_(emline_gflux_ha_6564>25, bintype.name==SPX)\n",
      "Marvin Query(mode='remote', limit=100, sort=None, order='asc')\n",
      "Results contain of a total of 9, only returning the first 9 results\n",
      "[u'mangaid', u'plate', u'plateifu', u'ifu_name', u'template_name', u'bintype_name', u'emline_gflux_ha_6564', u'x', u'y']\n"
     ]
    }
   ],
   "source": [
    "f = 'emline_gflux_ha_6564 > 25 and bintype.name == SPX'\n",
    "q = Query(searchfilter=f, returnparams=['template.name'])\n",
    "print(q)\n",
    "\n",
    "# run it\n",
    "r = q.run()"
   ]
  },
  {
   "cell_type": "code",
   "execution_count": 22,
   "metadata": {
    "collapsed": false
   },
   "outputs": [
    {
     "data": {
      "text/plain": [
       "[NamedTuple(mangaid=u'1-209232', plate=8485, plateifu=u'8485-1901', ifu_name=u'1901', template_name=u'GAU-MILESHC', bintype_name=u'SPX', emline_gflux_ha_6564=26.3961, x=16, y=16),\n",
       " NamedTuple(mangaid=u'1-209232', plate=8485, plateifu=u'8485-1901', ifu_name=u'1901', template_name=u'GAU-MILESHC', bintype_name=u'SPX', emline_gflux_ha_6564=28.3759, x=16, y=17),\n",
       " NamedTuple(mangaid=u'1-209232', plate=8485, plateifu=u'8485-1901', ifu_name=u'1901', template_name=u'GAU-MILESHC', bintype_name=u'SPX', emline_gflux_ha_6564=25.651, x=16, y=18),\n",
       " NamedTuple(mangaid=u'1-209232', plate=8485, plateifu=u'8485-1901', ifu_name=u'1901', template_name=u'GAU-MILESHC', bintype_name=u'SPX', emline_gflux_ha_6564=30.3718, x=17, y=16),\n",
       " NamedTuple(mangaid=u'1-209232', plate=8485, plateifu=u'8485-1901', ifu_name=u'1901', template_name=u'GAU-MILESHC', bintype_name=u'SPX', emline_gflux_ha_6564=31.4754, x=17, y=17),\n",
       " NamedTuple(mangaid=u'1-209232', plate=8485, plateifu=u'8485-1901', ifu_name=u'1901', template_name=u'GAU-MILESHC', bintype_name=u'SPX', emline_gflux_ha_6564=28.3923, x=17, y=18),\n",
       " NamedTuple(mangaid=u'1-209232', plate=8485, plateifu=u'8485-1901', ifu_name=u'1901', template_name=u'GAU-MILESHC', bintype_name=u'SPX', emline_gflux_ha_6564=27.7081, x=18, y=16),\n",
       " NamedTuple(mangaid=u'1-209232', plate=8485, plateifu=u'8485-1901', ifu_name=u'1901', template_name=u'GAU-MILESHC', bintype_name=u'SPX', emline_gflux_ha_6564=28.2909, x=18, y=17),\n",
       " NamedTuple(mangaid=u'1-209232', plate=8485, plateifu=u'8485-1901', ifu_name=u'1901', template_name=u'GAU-MILESHC', bintype_name=u'SPX', emline_gflux_ha_6564=25.4768, x=18, y=18)]"
      ]
     },
     "execution_count": 22,
     "metadata": {},
     "output_type": "execute_result"
    }
   ],
   "source": [
    "r.results"
   ]
  },
  {
   "cell_type": "markdown",
   "metadata": {},
   "source": [
    "# Global+Local Queries\n",
    "To combine global and local searches, simply combine them together in one filter condition.  Let's look for all spaxels that have an H-alpha EW > 3 in galaxies with NSA redshift < 0.1 and a log sersic_mass > 9.5 "
   ]
  },
  {
   "cell_type": "code",
   "execution_count": 34,
   "metadata": {
    "collapsed": false
   },
   "outputs": [
    {
     "name": "stdout",
     "output_type": "stream",
     "text": [
      "Your parsed filter is: \n",
      "and_(nsa.sersic_logmass>9.5, nsa.z<0.1, emline_sew_ha_6564>3)\n",
      "Marvin Query(mode='remote', limit=100, sort=None, order='asc')\n"
     ]
    }
   ],
   "source": [
    "f = 'nsa.sersic_logmass > 9.5 and nsa.z < 0.1 and emline_sew_ha_6564 > 3'\n",
    "q = Query(searchfilter=f)\n",
    "print(q)"
   ]
  },
  {
   "cell_type": "code",
   "execution_count": 26,
   "metadata": {
    "collapsed": false
   },
   "outputs": [
    {
     "name": "stdout",
     "output_type": "stream",
     "text": [
      "Results contain of a total of 1207, only returning the first 100 results\n",
      "[u'mangaid', u'plate', u'plateifu', u'name', u'emline_sew_ha_6564', u'sersic_logmass', u'z', u'x', u'y']\n"
     ]
    }
   ],
   "source": [
    "r = q.run()"
   ]
  },
  {
   "cell_type": "code",
   "execution_count": 35,
   "metadata": {
    "collapsed": false
   },
   "outputs": [
    {
     "name": "stdout",
     "output_type": "stream",
     "text": [
      "('spaxels returned', 1207)\n",
      "('from galaxies', 1)\n"
     ]
    }
   ],
   "source": [
    "# Let's see how many spaxels we returned from how many galaxies\n",
    "plateifu = r.getListOf('plateifu')\n",
    "print('spaxels returned', r.totalcount)\n",
    "print('from galaxies', len(set(plateifu)))"
   ]
  },
  {
   "cell_type": "code",
   "execution_count": 36,
   "metadata": {
    "collapsed": false
   },
   "outputs": [
    {
     "data": {
      "text/plain": [
       "[NamedTuple(mangaid=u'1-209232', plate=8485, plateifu=u'8485-1901', name=u'1901', emline_sew_ha_6564=24.1401832278, sersic_logmass=9.62934996005489, z=0.0407446920871735, x=6, y=15),\n",
       " NamedTuple(mangaid=u'1-209232', plate=8485, plateifu=u'8485-1901', name=u'1901', emline_sew_ha_6564=24.1401832278, sersic_logmass=9.62934996005489, z=0.0407446920871735, x=6, y=16),\n",
       " NamedTuple(mangaid=u'1-209232', plate=8485, plateifu=u'8485-1901', name=u'1901', emline_sew_ha_6564=24.1401832278, sersic_logmass=9.62934996005489, z=0.0407446920871735, x=6, y=17),\n",
       " NamedTuple(mangaid=u'1-209232', plate=8485, plateifu=u'8485-1901', name=u'1901', emline_sew_ha_6564=24.1401832278, sersic_logmass=9.62934996005489, z=0.0407446920871735, x=6, y=18),\n",
       " NamedTuple(mangaid=u'1-209232', plate=8485, plateifu=u'8485-1901', name=u'1901', emline_sew_ha_6564=24.1401832278, sersic_logmass=9.62934996005489, z=0.0407446920871735, x=6, y=19)]"
      ]
     },
     "execution_count": 36,
     "metadata": {},
     "output_type": "execute_result"
    }
   ],
   "source": [
    "r.results[0:5]"
   ]
  },
  {
   "cell_type": "markdown",
   "metadata": {},
   "source": [
    "# Query Functions\n",
    "Marvin also contains more advanced queries in the form of predefined functions. \n",
    "For example, let's say you want to ask Marvin\n",
    "\n",
    "\"Give me all galaxies that have an H-alpha flux > 25 in more than 20% of their good spaxels\"\n",
    "\n",
    "you can do so using the query function **npergood**.  **npergood** accepts as input a standard filter expression condition. E.g., the syntax for the above query would be input as \n",
    "\n",
    "npergood(emline_gflux_ha_6564 > 25) >= 20\n",
    "\n",
    "Let's try it..."
   ]
  },
  {
   "cell_type": "code",
   "execution_count": 48,
   "metadata": {
    "collapsed": false
   },
   "outputs": [
    {
     "name": "stdout",
     "output_type": "stream",
     "text": [
      "Your parsed filter is: \n",
      "npergood(emline_gflux_ha_6564>5)>=20\n",
      "Marvin Query(mode='remote', limit=100, sort=None, order='asc')\n",
      "Results contain of a total of 8, only returning the first 8 results\n"
     ]
    },
    {
     "ename": "TypeError",
     "evalue": "__new__() takes exactly 8 arguments (5 given)",
     "output_type": "error",
     "traceback": [
      "\u001b[0;31m---------------------------------------------------------------------------\u001b[0m",
      "\u001b[0;31mTypeError\u001b[0m                                 Traceback (most recent call last)",
      "\u001b[0;32m<ipython-input-48-416c848a08be>\u001b[0m in \u001b[0;36m<module>\u001b[0;34m()\u001b[0m\n\u001b[1;32m      4\u001b[0m \u001b[0mq\u001b[0m \u001b[0;34m=\u001b[0m \u001b[0mQuery\u001b[0m\u001b[0;34m(\u001b[0m\u001b[0msearchfilter\u001b[0m\u001b[0;34m=\u001b[0m\u001b[0mf\u001b[0m\u001b[0;34m)\u001b[0m\u001b[0;34m\u001b[0m\u001b[0m\n\u001b[1;32m      5\u001b[0m \u001b[0;32mprint\u001b[0m\u001b[0;34m(\u001b[0m\u001b[0mq\u001b[0m\u001b[0;34m)\u001b[0m\u001b[0;34m\u001b[0m\u001b[0m\n\u001b[0;32m----> 6\u001b[0;31m \u001b[0mr\u001b[0m \u001b[0;34m=\u001b[0m \u001b[0mq\u001b[0m\u001b[0;34m.\u001b[0m\u001b[0mrun\u001b[0m\u001b[0;34m(\u001b[0m\u001b[0;34m)\u001b[0m\u001b[0;34m\u001b[0m\u001b[0m\n\u001b[0m\u001b[1;32m      7\u001b[0m \u001b[0;32mprint\u001b[0m\u001b[0;34m(\u001b[0m\u001b[0mr\u001b[0m\u001b[0;34m)\u001b[0m\u001b[0;34m\u001b[0m\u001b[0m\n",
      "\u001b[0;32m/Users/Brian/Work/github_projects/Marvin/python/marvin/tools/query/query.pyc\u001b[0m in \u001b[0;36mwrapper\u001b[0;34m(self, *args, **kwargs)\u001b[0m\n\u001b[1;32m     88\u001b[0m         \u001b[0;32mif\u001b[0m \u001b[0;32mnot\u001b[0m \u001b[0mself\u001b[0m\u001b[0;34m.\u001b[0m\u001b[0mquery\u001b[0m \u001b[0;32mand\u001b[0m \u001b[0mself\u001b[0m\u001b[0;34m.\u001b[0m\u001b[0mmode\u001b[0m \u001b[0;34m==\u001b[0m \u001b[0;34m'local'\u001b[0m\u001b[0;34m:\u001b[0m\u001b[0;34m\u001b[0m\u001b[0m\n\u001b[1;32m     89\u001b[0m             \u001b[0mself\u001b[0m\u001b[0;34m.\u001b[0m\u001b[0m_createBaseQuery\u001b[0m\u001b[0;34m(\u001b[0m\u001b[0;34m)\u001b[0m\u001b[0;34m\u001b[0m\u001b[0m\n\u001b[0;32m---> 90\u001b[0;31m         \u001b[0;32mreturn\u001b[0m \u001b[0mf\u001b[0m\u001b[0;34m(\u001b[0m\u001b[0mself\u001b[0m\u001b[0;34m,\u001b[0m \u001b[0;34m*\u001b[0m\u001b[0margs\u001b[0m\u001b[0;34m,\u001b[0m \u001b[0;34m**\u001b[0m\u001b[0mkwargs\u001b[0m\u001b[0;34m)\u001b[0m\u001b[0;34m\u001b[0m\u001b[0m\n\u001b[0m\u001b[1;32m     91\u001b[0m     \u001b[0;32mreturn\u001b[0m \u001b[0mwrapper\u001b[0m\u001b[0;34m\u001b[0m\u001b[0m\n\u001b[1;32m     92\u001b[0m \u001b[0;34m\u001b[0m\u001b[0m\n",
      "\u001b[0;32m/Users/Brian/Work/github_projects/Marvin/python/marvin/tools/query/query.pyc\u001b[0m in \u001b[0;36mwrapper\u001b[0;34m(self, *args, **kwargs)\u001b[0m\n\u001b[1;32m    100\u001b[0m         \u001b[0;32mif\u001b[0m \u001b[0mself\u001b[0m\u001b[0;34m.\u001b[0m\u001b[0mmode\u001b[0m \u001b[0;34m==\u001b[0m \u001b[0;34m'local'\u001b[0m \u001b[0;32mand\u001b[0m \u001b[0mself\u001b[0m\u001b[0;34m.\u001b[0m\u001b[0mfilterparams\u001b[0m \u001b[0;32mand\u001b[0m \u001b[0;32mnot\u001b[0m \u001b[0mself\u001b[0m\u001b[0;34m.\u001b[0m\u001b[0m_alreadyInFilter\u001b[0m\u001b[0;34m(\u001b[0m\u001b[0mself\u001b[0m\u001b[0;34m.\u001b[0m\u001b[0mfilterparams\u001b[0m\u001b[0;34m.\u001b[0m\u001b[0mkeys\u001b[0m\u001b[0;34m(\u001b[0m\u001b[0;34m)\u001b[0m\u001b[0;34m)\u001b[0m\u001b[0;34m:\u001b[0m\u001b[0;34m\u001b[0m\u001b[0m\n\u001b[1;32m    101\u001b[0m             \u001b[0mself\u001b[0m\u001b[0;34m.\u001b[0m\u001b[0madd_condition\u001b[0m\u001b[0;34m(\u001b[0m\u001b[0;34m)\u001b[0m\u001b[0;34m\u001b[0m\u001b[0m\n\u001b[0;32m--> 102\u001b[0;31m         \u001b[0;32mreturn\u001b[0m \u001b[0mf\u001b[0m\u001b[0;34m(\u001b[0m\u001b[0mself\u001b[0m\u001b[0;34m,\u001b[0m \u001b[0;34m*\u001b[0m\u001b[0margs\u001b[0m\u001b[0;34m,\u001b[0m \u001b[0;34m**\u001b[0m\u001b[0mkwargs\u001b[0m\u001b[0;34m)\u001b[0m\u001b[0;34m\u001b[0m\u001b[0m\n\u001b[0m\u001b[1;32m    103\u001b[0m \u001b[0;34m\u001b[0m\u001b[0m\n\u001b[1;32m    104\u001b[0m     \u001b[0;32mreturn\u001b[0m \u001b[0mwrapper\u001b[0m\u001b[0;34m\u001b[0m\u001b[0m\n",
      "\u001b[0;32m/Users/Brian/Work/github_projects/Marvin/python/marvin/tools/query/query.pyc\u001b[0m in \u001b[0;36mwrapper\u001b[0;34m(self, *args, **kwargs)\u001b[0m\n\u001b[1;32m     76\u001b[0m         \u001b[0;32mif\u001b[0m \u001b[0mself\u001b[0m\u001b[0;34m.\u001b[0m\u001b[0mquery\u001b[0m \u001b[0;32mand\u001b[0m \u001b[0mself\u001b[0m\u001b[0;34m.\u001b[0m\u001b[0mmode\u001b[0m \u001b[0;34m==\u001b[0m \u001b[0;34m'local'\u001b[0m\u001b[0;34m:\u001b[0m\u001b[0;34m\u001b[0m\u001b[0m\n\u001b[1;32m     77\u001b[0m             \u001b[0mself\u001b[0m\u001b[0;34m.\u001b[0m\u001b[0mquery\u001b[0m \u001b[0;34m=\u001b[0m \u001b[0mself\u001b[0m\u001b[0;34m.\u001b[0m\u001b[0mquery\u001b[0m\u001b[0;34m.\u001b[0m\u001b[0mparams\u001b[0m\u001b[0;34m(\u001b[0m\u001b[0;34m{\u001b[0m\u001b[0;34m'drpver'\u001b[0m\u001b[0;34m:\u001b[0m \u001b[0mself\u001b[0m\u001b[0;34m.\u001b[0m\u001b[0m_drpver\u001b[0m\u001b[0;34m,\u001b[0m \u001b[0;34m'dapver'\u001b[0m\u001b[0;34m:\u001b[0m \u001b[0mself\u001b[0m\u001b[0;34m.\u001b[0m\u001b[0m_dapver\u001b[0m\u001b[0;34m}\u001b[0m\u001b[0;34m)\u001b[0m\u001b[0;34m\u001b[0m\u001b[0m\n\u001b[0;32m---> 78\u001b[0;31m         \u001b[0;32mreturn\u001b[0m \u001b[0mf\u001b[0m\u001b[0;34m(\u001b[0m\u001b[0mself\u001b[0m\u001b[0;34m,\u001b[0m \u001b[0;34m*\u001b[0m\u001b[0margs\u001b[0m\u001b[0;34m,\u001b[0m \u001b[0;34m**\u001b[0m\u001b[0mkwargs\u001b[0m\u001b[0;34m)\u001b[0m\u001b[0;34m\u001b[0m\u001b[0m\n\u001b[0m\u001b[1;32m     79\u001b[0m     \u001b[0;32mreturn\u001b[0m \u001b[0mwrapper\u001b[0m\u001b[0;34m\u001b[0m\u001b[0m\n\u001b[1;32m     80\u001b[0m \u001b[0;34m\u001b[0m\u001b[0m\n",
      "\u001b[0;32m/Users/Brian/Work/github_projects/Marvin/python/marvin/tools/query/query.pyc\u001b[0m in \u001b[0;36mrun\u001b[0;34m(self, qmode)\u001b[0m\n\u001b[1;32m    760\u001b[0m             \u001b[0;32mprint\u001b[0m\u001b[0;34m(\u001b[0m\u001b[0;34m'Results contain of a total of {0}, only returning the first {1} results'\u001b[0m\u001b[0;34m.\u001b[0m\u001b[0mformat\u001b[0m\u001b[0;34m(\u001b[0m\u001b[0mtotalcount\u001b[0m\u001b[0;34m,\u001b[0m \u001b[0mcount\u001b[0m\u001b[0;34m)\u001b[0m\u001b[0;34m)\u001b[0m\u001b[0;34m\u001b[0m\u001b[0m\n\u001b[1;32m    761\u001b[0m             return Results(results=res, query=self.query, mode=self.mode, queryobj=self, count=count,\n\u001b[0;32m--> 762\u001b[0;31m                            returntype=self.returntype, totalcount=totalcount, chunk=chunk, runtime=runtime)\n\u001b[0m\u001b[1;32m    763\u001b[0m \u001b[0;34m\u001b[0m\u001b[0m\n\u001b[1;32m    764\u001b[0m     \u001b[0;32mdef\u001b[0m \u001b[0m_cleanUpQueries\u001b[0m\u001b[0;34m(\u001b[0m\u001b[0mself\u001b[0m\u001b[0;34m)\u001b[0m\u001b[0;34m:\u001b[0m\u001b[0;34m\u001b[0m\u001b[0m\n",
      "\u001b[0;32m/Users/Brian/Work/github_projects/Marvin/python/marvin/tools/query/results.pyc\u001b[0m in \u001b[0;36m__init__\u001b[0;34m(self, *args, **kwargs)\u001b[0m\n\u001b[1;32m    116\u001b[0m         \u001b[0;31m# Convert remote results to NamedTuple\u001b[0m\u001b[0;34m\u001b[0m\u001b[0;34m\u001b[0m\u001b[0m\n\u001b[1;32m    117\u001b[0m         \u001b[0;32mif\u001b[0m \u001b[0mself\u001b[0m\u001b[0;34m.\u001b[0m\u001b[0mmode\u001b[0m \u001b[0;34m==\u001b[0m \u001b[0;34m'remote'\u001b[0m\u001b[0;34m:\u001b[0m\u001b[0;34m\u001b[0m\u001b[0m\n\u001b[0;32m--> 118\u001b[0;31m             \u001b[0mself\u001b[0m\u001b[0;34m.\u001b[0m\u001b[0m_makeNamedTuple\u001b[0m\u001b[0;34m(\u001b[0m\u001b[0;34m)\u001b[0m\u001b[0;34m\u001b[0m\u001b[0m\n\u001b[0m\u001b[1;32m    119\u001b[0m \u001b[0;34m\u001b[0m\u001b[0m\n\u001b[1;32m    120\u001b[0m         \u001b[0;31m# Setup columns, and parameters\u001b[0m\u001b[0;34m\u001b[0m\u001b[0;34m\u001b[0m\u001b[0m\n",
      "\u001b[0;32m/Users/Brian/Work/github_projects/Marvin/python/marvin/tools/query/results.pyc\u001b[0m in \u001b[0;36m_makeNamedTuple\u001b[0;34m(self)\u001b[0m\n\u001b[1;32m    354\u001b[0m         \u001b[0;32mdef\u001b[0m \u001b[0mkeys\u001b[0m\u001b[0;34m(\u001b[0m\u001b[0mself\u001b[0m\u001b[0;34m)\u001b[0m\u001b[0;34m:\u001b[0m\u001b[0;34m\u001b[0m\u001b[0m\n\u001b[1;32m    355\u001b[0m             \u001b[0;32mreturn\u001b[0m \u001b[0mqpo\u001b[0m\u001b[0;34m\u001b[0m\u001b[0m\n\u001b[0;32m--> 356\u001b[0;31m         \u001b[0mnt\u001b[0m\u001b[0;34m.\u001b[0m\u001b[0mkeys\u001b[0m \u001b[0;34m=\u001b[0m \u001b[0mkeys\u001b[0m\u001b[0;34m\u001b[0m\u001b[0m\n\u001b[0m\u001b[1;32m    357\u001b[0m         \u001b[0mself\u001b[0m\u001b[0;34m.\u001b[0m\u001b[0mresults\u001b[0m \u001b[0;34m=\u001b[0m \u001b[0;34m[\u001b[0m\u001b[0mnt\u001b[0m\u001b[0;34m(\u001b[0m\u001b[0;34m*\u001b[0m\u001b[0mr\u001b[0m\u001b[0;34m)\u001b[0m \u001b[0;32mfor\u001b[0m \u001b[0mr\u001b[0m \u001b[0;32min\u001b[0m \u001b[0mself\u001b[0m\u001b[0;34m.\u001b[0m\u001b[0mresults\u001b[0m\u001b[0;34m]\u001b[0m\u001b[0;34m\u001b[0m\u001b[0m\n\u001b[1;32m    358\u001b[0m \u001b[0;34m\u001b[0m\u001b[0m\n",
      "\u001b[0;31mTypeError\u001b[0m: __new__() takes exactly 8 arguments (5 given)"
     ]
    }
   ],
   "source": [
    "config.mode='remote'\n",
    "config.setRelease('MPL-4')\n",
    "f = 'npergood(emline_gflux_ha_6564 > 5) >= 20'\n",
    "q = Query(searchfilter=f)\n",
    "print(q)\n",
    "r = q.run()\n",
    "print(r)"
   ]
  },
  {
   "cell_type": "code",
   "execution_count": 46,
   "metadata": {
    "collapsed": false
   },
   "outputs": [
    {
     "data": {
      "text/plain": [
       "['cube.mangaid',\n",
       " 'cube.plate',\n",
       " 'cube.plateifu',\n",
       " 'ifu.name',\n",
       " 'emline_gflux_ha_6564',\n",
       " 'spaxelprop.x',\n",
       " 'spaxelprop.y']"
      ]
     },
     "execution_count": 46,
     "metadata": {},
     "output_type": "execute_result"
    }
   ],
   "source": [
    "q.params"
   ]
  },
  {
   "cell_type": "code",
   "execution_count": 47,
   "metadata": {
    "collapsed": false
   },
   "outputs": [
    {
     "data": {
      "text/plain": [
       "[(u'1-114303', 7975, u'7975-1901', u'1901'),\n",
       " (u'1-137890', 8249, u'8249-1901', u'1901'),\n",
       " (u'1-209729', 8549, u'8549-1901', u'1901'),\n",
       " (u'1-22438', 7992, u'7992-1901', u'1901'),\n",
       " (u'1-24092', 7991, u'7991-1901', u'1901'),\n",
       " (u'1-277213', 8258, u'8258-1901', u'1901'),\n",
       " (u'1-277339', 8254, u'8254-1901', u'1901'),\n",
       " (u'12-84620', 7443, u'7443-1901', u'1901')]"
      ]
     },
     "execution_count": 47,
     "metadata": {},
     "output_type": "execute_result"
    }
   ],
   "source": [
    "r.results"
   ]
  },
  {
   "cell_type": "code",
   "execution_count": null,
   "metadata": {
    "collapsed": true
   },
   "outputs": [],
   "source": []
  }
 ],
 "metadata": {
  "kernelspec": {
   "display_name": "Python [conda root]",
   "language": "python",
   "name": "conda-root-py"
  },
  "language_info": {
   "codemirror_mode": {
    "name": "ipython",
    "version": 2
   },
   "file_extension": ".py",
   "mimetype": "text/x-python",
   "name": "python",
   "nbconvert_exporter": "python",
   "pygments_lexer": "ipython2",
   "version": "2.7.12"
  }
 },
 "nbformat": 4,
 "nbformat_minor": 1
}
